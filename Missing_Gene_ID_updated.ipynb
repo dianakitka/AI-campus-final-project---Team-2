{
 "cells": [
  {
   "cell_type": "code",
   "execution_count": 1,
   "id": "e024f33f-da1e-4b75-9c97-9d2678ba8a40",
   "metadata": {},
   "outputs": [
    {
     "name": "stdout",
     "output_type": "stream",
     "text": [
      "['?', '?', '?', '?', '?', '?', '?', '?', '?', '?', '?', '?', '?', '?', '?', '?', '?', '?', '?', '?', '?', '?', '?', '?', '?', '?', '?', '?', '?']\n"
     ]
    }
   ],
   "source": [
    "# Load your gene ID file\n",
    "with open(\"gene_ids_only.csv\", \"r\") as f:\n",
    "    lines = f.readlines()\n",
    "\n",
    "# Extract gene names with '?' symbol\n",
    "genes_with_question_mark = [line.strip().split('|')[0] for line in lines if line.startswith('?|')]\n",
    "\n",
    "# Print or save them\n",
    "print(genes_with_question_mark)\n"
   ]
  },
  {
   "cell_type": "code",
   "execution_count": 3,
   "id": "ac87fbba-4eb2-4c8b-889a-a8719910086f",
   "metadata": {},
   "outputs": [
    {
     "name": "stdout",
     "output_type": "stream",
     "text": [
      "0     ?|100130426\n",
      "1     ?|100133144\n",
      "2     ?|100134869\n",
      "3         ?|10357\n",
      "4         ?|10431\n",
      "5        ?|136542\n",
      "6        ?|155060\n",
      "7         ?|26823\n",
      "8        ?|280660\n",
      "9        ?|317712\n",
      "10       ?|340602\n",
      "11       ?|388795\n",
      "12       ?|390284\n",
      "13       ?|391343\n",
      "14       ?|391714\n",
      "15       ?|404770\n",
      "16       ?|441362\n",
      "17       ?|442388\n",
      "18       ?|553137\n",
      "19        ?|57714\n",
      "20       ?|645851\n",
      "21       ?|652919\n",
      "22       ?|653553\n",
      "23       ?|728045\n",
      "24       ?|728603\n",
      "25       ?|728788\n",
      "26       ?|729884\n",
      "27         ?|8225\n",
      "28        ?|90288\n",
      "Name: gene_id, dtype: object\n"
     ]
    }
   ],
   "source": [
    "import pandas as pd\n",
    "\n",
    "# Load your file\n",
    "df = pd.read_csv(\"gene_ids_only.csv\", sep=\"\\t\")  # Adjust 'sep' and filename as needed\n",
    "\n",
    "# Filter for gene IDs starting with '?|'\n",
    "question_genes = df[df['gene_id'].str.startswith('?|')]\n",
    "\n",
    "# Show the full '?|number' values\n",
    "print(question_genes['gene_id'])\n"
   ]
  },
  {
   "cell_type": "code",
   "execution_count": 7,
   "id": "7e55ad00-8b86-45b7-b0e2-de03bb5b22d0",
   "metadata": {},
   "outputs": [],
   "source": [
    "replacement_dict = {\n",
    "    '?|100130426': 'VPS13A_AS1|100130426',\n",
    "    '?|100133144': 'UBE2Q2P3|100133144',\n",
    "    '?|100134869': 'UBE2Q2P2|100134869',\n",
    "    '?|10357': 'HMGB1P1|10357',\n",
    "    '?|10431': 'TIMM23B|10431',\n",
    "    '?|136542': 'MOXD2P|136542',\n",
    "    '?|155060': 'LOC155060|155060',\n",
    "    '?|26823': 'RNU12_2P|26823',\n",
    "    '?|280660': 'SSX9P|280660',\n",
    "    '?|317712': 'CSN1S2BP|317712',\n",
    "    '?|340602': 'EZHIP|340602',\n",
    "    '?|388795': 'EFCAB8|388795',\n",
    "    '?|390284': 'SRP14P1|390284',\n",
    "    '?|391343': 'LOC391343|391343',\n",
    "    '?|391714': 'TRIM75|391714',\n",
    "    '?|404770': 'SPATA31B1P|404770',\n",
    "    '?|441362': 'REXO1L6P|441362',\n",
    "    '?|442388': 'SDR16C6P|442388',\n",
    "    '?|553137': 'LINC02532|553137',\n",
    "    '?|57714': 'RNF213|57714',\n",
    "    '?|645851': 'RSKR|645851',\n",
    "    '?|652919': 'RGPD7|652919',\n",
    "    '?|653553': 'HSPB1P1|653553',\n",
    "    '?|728045': 'PPBPP1|728045',\n",
    "    '?|728603': 'FRMPD2B|728603',\n",
    "    '?|728788': 'ANKRD20A20P|728788',\n",
    "    '?|729884': 'TMPRSS11E|729884',\n",
    "    '?|8225': 'GTPBP6|8225',\n",
    "    '?|90288': 'EFCAB12|90288'\n",
    "}\n",
    "\n"
   ]
  },
  {
   "cell_type": "code",
   "execution_count": 9,
   "id": "4dff1180-b912-4768-9382-2253801da0b8",
   "metadata": {},
   "outputs": [],
   "source": [
    "import pandas as pd\n",
    "\n",
    "# Load the file\n",
    "df = pd.read_csv(\"gene_ids_only.csv\", sep=\"\\t\")\n",
    "\n",
    "# Replace using the dictionary\n",
    "df['gene_id'] = df['gene_id'].replace(replacement_dict)\n",
    "\n",
    "# Save to file if needed\n",
    "df.to_csv(\"gene_ids_updated.tsv\", sep=\"\\t\", index=False)\n"
   ]
  },
  {
   "cell_type": "code",
   "execution_count": null,
   "id": "84d6441b-3cc5-4738-8a09-b09b2f4b54b1",
   "metadata": {},
   "outputs": [],
   "source": []
  }
 ],
 "metadata": {
  "kernelspec": {
   "display_name": "Python 3 (ipykernel)",
   "language": "python",
   "name": "python3"
  },
  "language_info": {
   "codemirror_mode": {
    "name": "ipython",
    "version": 3
   },
   "file_extension": ".py",
   "mimetype": "text/x-python",
   "name": "python",
   "nbconvert_exporter": "python",
   "pygments_lexer": "ipython3",
   "version": "3.12.9"
  }
 },
 "nbformat": 4,
 "nbformat_minor": 5
}
