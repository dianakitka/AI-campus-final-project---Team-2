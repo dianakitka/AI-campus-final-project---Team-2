{
 "cells": [
  {
   "cell_type": "code",
   "execution_count": 1,
   "id": "352031df-c74c-44f3-9c3b-7afa8d440042",
   "metadata": {},
   "outputs": [
    {
     "name": "stdout",
     "output_type": "stream",
     "text": [
      "['?|100130426' '?|100133144' '?|100134869' '?|10357' '?|10431']\n"
     ]
    }
   ],
   "source": [
    "import pandas as pd\n",
    "\n",
    "df = pd.read_csv(\"unc.edu_PANCAN_IlluminaHiSeq_RNASeqV2.geneExp.tsv\", sep=\"\\t\")  \n",
    "gene_names = df['gene_id'].unique().tolist()\n",
    "print(df['gene_id'].unique()[:5])  # prints first 5 unique gene names"
   ]
  },
  {
   "cell_type": "code",
   "execution_count": 2,
   "id": "4061da03-2b35-450f-a55c-36a629533de2",
   "metadata": {},
   "outputs": [
    {
     "name": "stdout",
     "output_type": "stream",
     "text": [
      "Number of instances (rows): 20531\n",
      "Number of features (columns): 10472\n"
     ]
    }
   ],
   "source": [
    "print(\"Number of instances (rows):\", df.shape[0])\n",
    "print(\"Number of features (columns):\", df.shape[1])\n"
   ]
  },
  {
   "cell_type": "code",
   "execution_count": 3,
   "id": "43cd8da7-9da1-467e-a2eb-cdb5c064c8b0",
   "metadata": {},
   "outputs": [],
   "source": [
    "# Load expression file (with dummy gene names)\n",
    "expr_df = pd.read_csv(\"data.csv\")\n",
    "\n",
    "# Load gene IDs\n",
    "gene_ids_df = pd.read_csv(\"gene_ids_updated.tsv\")\n",
    "real_gene_ids = gene_ids_df[\"gene_id\"].tolist()\n",
    "\n",
    "# Confirm shape match\n",
    "assert len(expr_df.columns) - 1 == len(real_gene_ids), \"Column mismatch\"\n",
    "\n",
    "# Replace columns safely\n",
    "expr_df.columns = [expr_df.columns[0]] + real_gene_ids\n"
   ]
  },
  {
   "cell_type": "code",
   "execution_count": 5,
   "id": "b98513bd-c79a-4cc5-a27e-0bcdf541df7a",
   "metadata": {},
   "outputs": [],
   "source": [
    "import pandas as pd\n",
    "\n",
    "# (Re‐load or continue from your existing expr_df)\n",
    "expr_df = pd.read_csv(\"data.csv\")       # your expression matrix\n",
    "gene_ids_df = pd.read_csv(\"gene_ids_updated.tsv\")  \n",
    "real_gene_ids = gene_ids_df[\"gene_id\"].tolist()  \n",
    "assert len(expr_df.columns) - 1 == len(real_gene_ids)\n",
    "\n",
    "# Step 1: assign the “GENE_SYMBOL|ID” strings as column names\n",
    "expr_df.columns = [expr_df.columns[0]] + real_gene_ids\n",
    "\n",
    "# Step 2: strip off everything after (and including) the ‘|’ in each gene column\n",
    "first_col = expr_df.columns[0]  # e.g. \"SampleID\" or whatever your metadata header is\n",
    "rest_cols = expr_df.columns[1:]\n",
    "stripped = [col.split(\"|\")[0] for col in rest_cols]\n",
    "\n",
    "# Step 3: re‐assemble the new column list\n",
    "expr_df.columns = [first_col] + stripped\n",
    "\n",
    "# (Now expr_df.columns looks like [\"SampleID\", \"VPS13A_AS1\", \"UBE2Q2P3\", … ])\n",
    "# You can save it out if you like:\n",
    "expr_df.to_csv(\"cleaned_gene_expression.csv\", sep=\"\\t\", index=False)\n"
   ]
  },
  {
   "cell_type": "code",
   "execution_count": 6,
   "id": "cc799556-d414-4137-8be2-43f04290e271",
   "metadata": {},
   "outputs": [
    {
     "name": "stdout",
     "output_type": "stream",
     "text": [
      "(801, 20532)\n"
     ]
    }
   ],
   "source": [
    "print(expr_df.shape)  # Should match original: (num_samples, num_genes + 1)\n"
   ]
  },
  {
   "cell_type": "code",
   "execution_count": 7,
   "id": "bccc98f7-f86a-4fe3-b2ea-91a751efd88f",
   "metadata": {},
   "outputs": [
    {
     "name": "stdout",
     "output_type": "stream",
     "text": [
      "Index(['Unnamed: 0', 'VPS13A_AS1', 'UBE2Q2P3', 'UBE2Q2P2', 'HMGB1P1',\n",
      "       'TIMM23B', 'MOXD2P', 'LOC155060', 'RNU12_2P', 'SSX9P'],\n",
      "      dtype='object')\n"
     ]
    }
   ],
   "source": [
    "print(expr_df.columns[:10])\n"
   ]
  },
  {
   "cell_type": "code",
   "execution_count": 8,
   "id": "84ace669-5767-4e33-a871-49811d369468",
   "metadata": {},
   "outputs": [
    {
     "name": "stdout",
     "output_type": "stream",
     "text": [
      "2\n",
      "0\n"
     ]
    }
   ],
   "source": [
    "print(expr_df.columns.duplicated().sum())  # Should be 0\n",
    "print(expr_df.columns.isnull().sum())      # Should be 0\n"
   ]
  },
  {
   "cell_type": "code",
   "execution_count": 9,
   "id": "5c89747f-6c5c-4161-b42b-61cd836bae3c",
   "metadata": {},
   "outputs": [
    {
     "name": "stdout",
     "output_type": "stream",
     "text": [
      "Gene names successfully replaced and saved to expression_with_real_gene_names.csv\n"
     ]
    }
   ],
   "source": [
    "expr_df.to_csv(\"expression_with_real_gene_names.csv\", index=False)\n",
    "print(\"Gene names successfully replaced and saved to expression_with_real_gene_names.csv\")"
   ]
  },
  {
   "cell_type": "code",
   "execution_count": 10,
   "id": "6cbc21dc-5aa4-491c-8383-9b42f7fe9af9",
   "metadata": {},
   "outputs": [
    {
     "name": "stdout",
     "output_type": "stream",
     "text": [
      "Number of instances (rows): 801\n",
      "Number of features (columns): 20532\n"
     ]
    }
   ],
   "source": [
    "df = pd.read_csv(\"expression_with_real_gene_names.csv\") \n",
    "print(\"Number of instances (rows):\", df.shape[0])\n",
    "print(\"Number of features (columns):\", df.shape[1])"
   ]
  },
  {
   "cell_type": "code",
   "execution_count": 11,
   "id": "e73ad596-8168-4519-85e3-68f4841236b9",
   "metadata": {},
   "outputs": [
    {
     "name": "stdout",
     "output_type": "stream",
     "text": [
      "Total duplicates: 2\n",
      "Duplicated names: ['RNF213', 'SLC35E2']\n"
     ]
    }
   ],
   "source": [
    "import pandas as pd\n",
    "\n",
    "# (Assuming expr_df is already loaded and cleaned as you showed.)\n",
    "cols = expr_df.columns\n",
    "\n",
    "# Get a Boolean mask of which labels are duplicates (keeps first occurrence = False)\n",
    "dup_mask = cols.duplicated(keep='first')\n",
    "\n",
    "# Print how many duplicates you have (should match .sum()=2)\n",
    "print(\"Total duplicates:\", dup_mask.sum())\n",
    "\n",
    "# Show the actual duplicated labels\n",
    "print(\"Duplicated names:\", cols[dup_mask].unique().tolist())\n"
   ]
  },
  {
   "cell_type": "code",
   "execution_count": 12,
   "id": "af2e9abd-dbeb-4467-a426-05239a227b68",
   "metadata": {},
   "outputs": [
    {
     "name": "stdout",
     "output_type": "stream",
     "text": [
      "Duplicates after renaming: 0\n"
     ]
    }
   ],
   "source": [
    "import pandas as pd\n",
    "\n",
    "# Example: your existing DataFrame\n",
    "# expr_df = pd.read_csv(\"...\")\n",
    "\n",
    "# Step A: collect all column names (including the first metadata column)\n",
    "orig_cols = expr_df.columns.tolist()\n",
    "\n",
    "# Step B: build a new list where duplicates get a “_n” suffix\n",
    "new_cols = []\n",
    "counts = {}  # counts[label] = how many times we've seen it so far\n",
    "\n",
    "for name in orig_cols:\n",
    "    if name not in counts:\n",
    "        counts[name] = 1\n",
    "        new_cols.append(name)\n",
    "    else:\n",
    "        counts[name] += 1\n",
    "        new_cols.append(f\"{name}_{counts[name]-1}\")\n",
    "\n",
    "# Now assign back:\n",
    "expr_df.columns = new_cols\n",
    "\n",
    "# Verify no duplicates remain:\n",
    "print(\"Duplicates after renaming:\", expr_df.columns.duplicated().sum())  # should be 0\n"
   ]
  },
  {
   "cell_type": "code",
   "execution_count": null,
   "id": "768ea84c-063a-4009-95bb-06b33b3a37a2",
   "metadata": {},
   "outputs": [],
   "source": []
  }
 ],
 "metadata": {
  "kernelspec": {
   "display_name": "Python 3 (ipykernel)",
   "language": "python",
   "name": "python3"
  },
  "language_info": {
   "codemirror_mode": {
    "name": "ipython",
    "version": 3
   },
   "file_extension": ".py",
   "mimetype": "text/x-python",
   "name": "python",
   "nbconvert_exporter": "python",
   "pygments_lexer": "ipython3",
   "version": "3.12.9"
  }
 },
 "nbformat": 4,
 "nbformat_minor": 5
}
